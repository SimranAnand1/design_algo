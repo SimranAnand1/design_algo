{
  "nbformat": 4,
  "nbformat_minor": 0,
  "metadata": {
    "colab": {
      "name": "Simple Integer Linear Programming.ipynb",
      "provenance": [],
      "collapsed_sections": [],
      "authorship_tag": "ABX9TyOjcvPScw9mSIQ/O/lrq3oR",
      "include_colab_link": true
    },
    "kernelspec": {
      "name": "python3",
      "display_name": "Python 3"
    },
    "language_info": {
      "name": "python"
    }
  },
  "cells": [
    {
      "cell_type": "markdown",
      "metadata": {
        "id": "view-in-github",
        "colab_type": "text"
      },
      "source": [
        "<a href=\"https://colab.research.google.com/github/SimranAnand1/design_algo/blob/main/Simple_Integer_Linear_Programming.ipynb\" target=\"_parent\"><img src=\"https://colab.research.google.com/assets/colab-badge.svg\" alt=\"Open In Colab\"/></a>"
      ]
    },
    {
      "cell_type": "code",
      "execution_count": 2,
      "metadata": {
        "colab": {
          "base_uri": "https://localhost:8080/"
        },
        "id": "LizJGHuJidUG",
        "outputId": "2e531abc-89bc-4d22-f994-f22b4e194fcb"
      },
      "outputs": [
        {
          "output_type": "stream",
          "name": "stdout",
          "text": [
            "Collecting pulp\n",
            "  Downloading PuLP-2.6.0-py3-none-any.whl (14.2 MB)\n",
            "\u001b[K     |████████████████████████████████| 14.2 MB 5.2 MB/s \n",
            "\u001b[?25hInstalling collected packages: pulp\n",
            "Successfully installed pulp-2.6.0\n"
          ]
        }
      ],
      "source": [
        "!pip install pulp\n",
        "from pulp import *\n",
        "import numpy as np"
      ]
    },
    {
      "cell_type": "code",
      "source": [
        "#a handful of sites\n",
        "sites = ['org','A','B','C','D','E','F','G','H','I','J','K']\n",
        "#non symetric distances\n",
        "distances = dict( ((a,b),np.random.randint(10,50)) for a in sites for b in sites if a!=b )"
      ],
      "metadata": {
        "id": "UbDjmHebigqP"
      },
      "execution_count": 3,
      "outputs": []
    },
    {
      "cell_type": "code",
      "source": [
        "#create the problme\n",
        "prob=LpProblem(\"salesman\",LpMinimize)\n",
        "#indicator variable if site i is connected to site j in the tour\n",
        "x = LpVariable.dicts('x',distances, 0,1,LpBinary)\n",
        "#the objective\n",
        "cost = lpSum([x[(i,j)]*distances[(i,j)] for (i,j) in distances])\n",
        "prob+=cost\n",
        "#constraints\n",
        "for k in sites:\n",
        "    #every site has exactly one inbound connection\n",
        "    prob+= lpSum([ x[(i,k)] for i in sites if (i,k) in x]) ==1\n",
        "    #every site has exactly one outbound connection\n",
        "    prob+=lpSum([ x[(k,i)] for i in sites if (k,i) in x]) ==1"
      ],
      "metadata": {
        "id": "_kwzIchaijhu"
      },
      "execution_count": 4,
      "outputs": []
    },
    {
      "cell_type": "code",
      "source": [
        "#we need to keep track of the order in the tour to eliminate the possibility of subtours\n",
        "u = LpVariable.dicts('u', sites, 0, len(sites)-1, LpInteger)\n",
        "#subtour elimination\n",
        "N=len(sites)\n",
        "for i in sites:\n",
        "    for j in sites:\n",
        "        if i != j and (i != 'org' and j!= 'org') and (i,j) in x:\n",
        "            prob += u[i] - u[j] <= (N)*(1-x[(i,j)]) - 1\n",
        "%time prob.solve()\n",
        "print(LpStatus[prob.status])"
      ],
      "metadata": {
        "colab": {
          "base_uri": "https://localhost:8080/"
        },
        "id": "Dws00zyIimQd",
        "outputId": "9a7eab9d-4c64-440d-833c-564e2832e7af"
      },
      "execution_count": 5,
      "outputs": [
        {
          "output_type": "stream",
          "name": "stdout",
          "text": [
            "CPU times: user 8.28 ms, sys: 5.73 ms, total: 14 ms\n",
            "Wall time: 405 ms\n",
            "Optimal\n"
          ]
        }
      ]
    },
    {
      "cell_type": "code",
      "source": [
        "sites_left = sites.copy()\n",
        "org = 'org'\n",
        "tour=[]\n",
        "tour.append(sites_left.pop( sites_left.index(org)))\n",
        "\n",
        "while len(sites_left) > 0:\n",
        "    \n",
        "    for k in sites_left:\n",
        "        if x[(org,k)].varValue ==1:\n",
        "            tour.append( sites_left.pop( sites_left.index(k)))\n",
        "            org=k\n",
        "            break\n",
        "            \n",
        "tour.append('org')\n",
        "\n",
        "tour_legs = [distances[(tour[i-1], tour[i])] for i in range(1,len(tour))]\n",
        "\n",
        "print('Found optimal tour!')\n",
        "print(' -> '.join(tour))"
      ],
      "metadata": {
        "colab": {
          "base_uri": "https://localhost:8080/"
        },
        "id": "GGoBaz5lionq",
        "outputId": "344555e1-0148-4677-af4e-8b0b620f1c2d"
      },
      "execution_count": 6,
      "outputs": [
        {
          "output_type": "stream",
          "name": "stdout",
          "text": [
            "Found optimal tour!\n",
            "org -> J -> H -> A -> K -> C -> G -> D -> F -> B -> I -> E -> org\n"
          ]
        }
      ]
    },
    {
      "cell_type": "code",
      "source": [
        "sum(tour_legs)"
      ],
      "metadata": {
        "colab": {
          "base_uri": "https://localhost:8080/"
        },
        "id": "gxO2ZiswirJZ",
        "outputId": "04809d4a-4083-4aa5-fa57-c00327448f74"
      },
      "execution_count": 7,
      "outputs": [
        {
          "output_type": "execute_result",
          "data": {
            "text/plain": [
              "200"
            ]
          },
          "metadata": {},
          "execution_count": 7
        }
      ]
    },
    {
      "cell_type": "code",
      "source": [
        "from pulp import *\n",
        "import numpy as np\n",
        "import matplotlib.pyplot as plt\n",
        "%matplotlib inline\n",
        "import seaborn as sn"
      ],
      "metadata": {
        "id": "e54hbPQiizrZ"
      },
      "execution_count": 8,
      "outputs": []
    },
    {
      "cell_type": "code",
      "source": [
        "#a handful of sites\n",
        "sites = ['org','A','B','C','D','E','F','G','H','I','J','K','L','M','N','O','P']\n",
        "print(len(sites)-1)"
      ],
      "metadata": {
        "colab": {
          "base_uri": "https://localhost:8080/"
        },
        "id": "Oz25ZC-Ei0o5",
        "outputId": "64c4f1e1-4a49-4982-c17d-f479961ffb09"
      },
      "execution_count": 9,
      "outputs": [
        {
          "output_type": "stream",
          "name": "stdout",
          "text": [
            "16\n"
          ]
        }
      ]
    },
    {
      "cell_type": "code",
      "source": [
        "#make some positions (so we can plot this)\n",
        "positions = dict( ( a, (np.random.rand()-.5, np.random.rand()-.5)) for a in sites)\n",
        "\n",
        "positions['org']=(0,0)\n",
        "for s in positions:\n",
        "    p = positions[s]\n",
        "    plt.plot(p[0],p[1],'o')\n",
        "    plt.text(p[0]+.01,p[1],s,horizontalalignment='left',verticalalignment='center')\n",
        "    \n",
        "plt.gca().axis('off');"
      ],
      "metadata": {
        "colab": {
          "base_uri": "https://localhost:8080/",
          "height": 248
        },
        "id": "RsqDgkx6i5yN",
        "outputId": "2419a134-ab00-4c1d-b971-1a5e069b25ee"
      },
      "execution_count": 10,
      "outputs": [
        {
          "output_type": "display_data",
          "data": {
            "text/plain": [
              "<Figure size 432x288 with 1 Axes>"
            ],
            "image/png": "[encoded data removed]"
          },
          "metadata": {
            "needs_background": "light"
          }
        }
      ]
    },
    {
      "cell_type": "code",
      "source": [
        "#straight line distance for simplicity\n",
        "d = lambda p1,p2: np.sqrt( (p1[0]-p2[0])**2+ (p1[1]-p2[1])**2)\n",
        "\n",
        "#calculate all the pairs\n",
        "distances=dict( ((s1,s2), d(positions[s1],positions[s2])) for s1 in positions for s2 in positions if s1!=s2)"
      ],
      "metadata": {
        "id": "BQ4lLOMgi6q_"
      },
      "execution_count": 11,
      "outputs": []
    },
    {
      "cell_type": "code",
      "source": [
        "K = 4 #the number of sales people \n",
        "#create the problme\n",
        "prob=LpProblem(\"vehicle\",LpMinimize)\n",
        "#indicator variable if site i is connected to site j in the tour\n",
        "x = LpVariable.dicts('x',distances, 0,1,LpBinary)\n",
        "#dummy vars to eliminate subtours\n",
        "u = LpVariable.dicts('u', sites, 0, len(sites)-1, LpInteger)\n",
        "#the objective\n",
        "cost = lpSum([x[(i,j)]*distances[(i,j)] for (i,j) in distances])\n",
        "prob+=cost\n",
        "#constraints\n",
        "for k in sites:\n",
        "    cap = 1 if k != 'org' else K\n",
        "    #inbound connection\n",
        "    prob+= lpSum([ x[(i,k)] for i in sites if (i,k) in x]) ==cap\n",
        "    #outbound connection\n",
        "    prob+=lpSum([ x[(k,i)] for i in sites if (k,i) in x]) ==cap\n",
        "    \n",
        "#subtour elimination\n",
        "N=len(sites)/K\n",
        "for i in sites:\n",
        "    for j in sites:\n",
        "        if i != j and (i != 'org' and j!= 'org') and (i,j) in x:\n",
        "            prob += u[i] - u[j] <= (N)*(1-x[(i,j)]) - 1"
      ],
      "metadata": {
        "id": "eKicDHVai_nJ"
      },
      "execution_count": 12,
      "outputs": []
    },
    {
      "cell_type": "code",
      "source": [
        "%time prob.solve()\n",
        "#prob.solve(GLPK_CMD(options=['--simplex']))\n",
        "print(LpStatus[prob.status])"
      ],
      "metadata": {
        "colab": {
          "base_uri": "https://localhost:8080/"
        },
        "id": "cF6lSC-vjBQt",
        "outputId": "654e06b4-d68d-48c3-d4d5-7ba17e14680e"
      },
      "execution_count": 13,
      "outputs": [
        {
          "output_type": "stream",
          "name": "stdout",
          "text": [
            "CPU times: user 97.6 ms, sys: 17.5 ms, total: 115 ms\n",
            "Wall time: 15.2 s\n",
            "Optimal\n"
          ]
        }
      ]
    },
    {
      "cell_type": "code",
      "source": [
        "non_zero_edges = [ e for e in x if value(x[e]) != 0 ]\n",
        "\n",
        "def get_next_site(parent):\n",
        "    '''helper function to get the next edge'''\n",
        "    edges = [e for e in non_zero_edges if e[0]==parent]\n",
        "    for e in edges:\n",
        "        non_zero_edges.remove(e)\n",
        "    return edges\n",
        "tours = get_next_site('org')\n",
        "tours = [ [e] for e in tours ]\n",
        "\n",
        "for t in tours:\n",
        "    while t[-1][1] !='org':\n",
        "        t.append(get_next_site(t[-1][1])[-1])"
      ],
      "metadata": {
        "id": "3NKb8gfCjDnJ"
      },
      "execution_count": 14,
      "outputs": []
    },
    {
      "cell_type": "code",
      "source": [
        "for t in tours:\n",
        "    print(' -> '.join([ a for a,b in t]+['org']))"
      ],
      "metadata": {
        "colab": {
          "base_uri": "https://localhost:8080/"
        },
        "id": "IYyNBfwjjF9R",
        "outputId": "c14b6f27-90d7-4855-c353-e090df277039"
      },
      "execution_count": 15,
      "outputs": [
        {
          "output_type": "stream",
          "name": "stdout",
          "text": [
            "org -> E -> C -> B -> O -> org\n",
            "org -> F -> M -> A -> P -> org\n",
            "org -> K -> I -> L -> G -> org\n",
            "org -> N -> H -> D -> J -> org\n"
          ]
        }
      ]
    },
    {
      "cell_type": "code",
      "source": [
        "#draw the tours\n",
        "colors = [np.random.rand(3) for i in range(len(tours))]\n",
        "for t,c in zip(tours,colors):\n",
        "    for a,b in t:\n",
        "        p1,p2 = positions[a], positions[b]\n",
        "        plt.plot([p1[0],p2[0]],[p1[1],p2[1]], color=c)\n",
        "\n",
        "#draw the map again\n",
        "for s in positions:\n",
        "    p = positions[s]\n",
        "    plt.plot(p[0],p[1],'o')\n",
        "    plt.text(p[0]+.01,p[1],s,horizontalalignment='left',verticalalignment='center')\n",
        "    \n",
        "plt.gca().axis('off');"
      ],
      "metadata": {
        "colab": {
          "base_uri": "https://localhost:8080/",
          "height": 248
        },
        "id": "o-IVhxpkjIPs",
        "outputId": "57ac875e-abd4-4738-a9fb-9451c0af49ea"
      },
      "execution_count": 16,
      "outputs": [
        {
          "output_type": "display_data",
          "data": {
            "text/plain": [
              "<Figure size 432x288 with 1 Axes>"
            ],
            "image/png": "[encoded data removed]"
          },
          "metadata": {
            "needs_background": "light"
          }
        }
      ]
    },
    {
      "cell_type": "code",
      "source": [
        "print(value(prob.objective))"
      ],
      "metadata": {
        "colab": {
          "base_uri": "https://localhost:8080/"
        },
        "id": "w9mKQcX_jK61",
        "outputId": "da113c45-34d5-4418-9782-b7642d4c7abc"
      },
      "execution_count": 17,
      "outputs": [
        {
          "output_type": "stream",
          "name": "stdout",
          "text": [
            "5.506965522535467\n"
          ]
        }
      ]
    }
  ]
}